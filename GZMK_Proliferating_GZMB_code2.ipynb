{
 "cells": [
  {
   "cell_type": "code",
   "execution_count": 1,
   "id": "fc6bfea4",
   "metadata": {},
   "outputs": [],
   "source": [
    "import pandas as pd"
   ]
  },
  {
   "cell_type": "code",
   "execution_count": 2,
   "id": "6c670d5e",
   "metadata": {},
   "outputs": [],
   "source": [
    "import matplotlib.pyplot as plt\n",
    "%matplotlib inline\n",
    "\n",
    "import matplotlib as mpl\n",
    "mpl.rcParams['svg.fonttype']='none'"
   ]
  },
  {
   "cell_type": "code",
   "execution_count": 3,
   "id": "9a8f6f2a",
   "metadata": {},
   "outputs": [],
   "source": [
    "###GZMK12\n",
    "def get_pairs(order,treatment):\n",
    "    box_pairs=[]\n",
    "    for group in order:\n",
    "        box_pairs.append([(group,x) for x in treatment])\n",
    "    return box_pairs\n",
    "\n",
    "def get_statistics(path,col):\n",
    "    count_data=pd.read_csv(path,index_col=0)\n",
    "    count_data['Group']=count_data['sample'].str.endswith('surgery')*1\n",
    "    count_data_dict=count_data.groupby('sample').sum()['count'].to_dict()\n",
    "    count_data['percentage']=count_data.apply(lambda x:x['count']/count_data_dict[x[0]],axis=1)\n",
    "    count_data['group class']=count_data.apply(lambda x:'Biopsy' if x['Group']==0 else 'Surgery',axis=1)\n",
    "    cell_type_order=list(count_data[col].value_counts().index)\n",
    "    treatment=['Biopsy','Surgery']\n",
    "    box_pairs=get_pairs(cell_type_order,treatment)\n",
    "    return count_data,box_pairs,cell_type_order\n",
    "\n",
    "def get_ratio_df(T_cell_subtypes,colnames):\n",
    "    T_cell_subtypes_pre=[]\n",
    "    T_cell_subtypes_post=[]\n",
    "    for index,value in T_cell_subtypes.groupby(colnames):\n",
    "        key=','.join(index)\n",
    "        if 'biopsy' in key:\n",
    "            T_cell_subtypes_pre.append(key)\n",
    "        elif 'surgery' in key:\n",
    "            T_cell_subtypes_post.append(key)\n",
    "\n",
    "    patient_T_Cell_type={}\n",
    "    for index,value in T_cell_subtypes.groupby(colnames):\n",
    "        key=','.join(index)\n",
    "        patient_T_Cell_type[key]=value['percentage'].sum()\n",
    "\n",
    "    T_cell_type_ratio={}\n",
    "    tumor_change_IM={}\n",
    "    for key1,key2 in zip(T_cell_subtypes_pre,T_cell_subtypes_post):\n",
    "        pateint_val=key2.split(',')[0]\n",
    "        T_cell_type_ratio[key2]=patient_T_Cell_type[key2]/patient_T_Cell_type[key1]\n",
    "        tumor_change_IM[key2]=tumor_change[pateint_val]\n",
    "\n",
    "    T_cell_type_ratio_df=pd.DataFrame.from_dict(T_cell_type_ratio,orient='index')\n",
    "    T_cell_type_ratio_df.columns=['ratio']\n",
    "    tumor_changeIM_df=pd.DataFrame.from_dict(tumor_change_IM,orient='index')\n",
    "    tumor_changeIM_df.columns=['tumor change']\n",
    "\n",
    "\n",
    "    T_cell_type_ratio_df['tumor change'] = tumor_changeIM_df[['tumor change']]\n",
    "\n",
    "    T_cell_type_ratio_df['cell_types']=T_cell_type_ratio_df.index.str.split(',')\n",
    "\n",
    "    T_cell_type_ratio_df['cell_type']=T_cell_type_ratio_df.apply(lambda x:x['cell_types'][1],axis=1)\n",
    "\n",
    "    T_cell_type_ratio_df['log ratio'] =np.log10(T_cell_type_ratio_df['ratio'])\n",
    "    return T_cell_type_ratio_df"
   ]
  },
  {
   "cell_type": "code",
   "execution_count": 1,
   "id": "a830ce77",
   "metadata": {},
   "outputs": [],
   "source": [
    "#tumor_change={'guozhixing_surgery':-45.57,'zhuanglili_surgery':-31.26,'sunzhengyun_surgery':-42.0,'nianshizhu_surgery':-20.52,'lilanying_surgery':-14.84,'wangzhu_surgery':-65.63,'zhouyunmei_surgery':-20.45,'wandeyuan_surgery':-31.7}"
   ]
  },
  {
   "cell_type": "code",
   "execution_count": 5,
   "id": "520654b7",
   "metadata": {},
   "outputs": [],
   "source": [
    "###GZMB/proliferationg\n",
    "T_cell_subtypes,box_pairs,cell_type_order_subtypes=get_statistics(\"statistics/T_further_subtypes_counts.csv\",'T_cell_further_subtype')"
   ]
  },
  {
   "cell_type": "code",
   "execution_count": 6,
   "id": "2416fe14",
   "metadata": {},
   "outputs": [],
   "source": [
    "tumor_change2={}\n",
    "for key,value in tumor_change.items():\n",
    "    tumor_change2[key]=value\n",
    "    tumor_change2[key.split(\"_\")[0]+'_'+'biopsy']=value\n",
    "\n"
   ]
  },
  {
   "cell_type": "code",
   "execution_count": 7,
   "id": "5a15dd11",
   "metadata": {},
   "outputs": [],
   "source": [
    "result_GK_GB={}\n",
    "result_GB_pro={}\n",
    "result_GK_pro={}\n",
    "for key,value in T_cell_subtypes.groupby(['sample']):\n",
    "    GB=list(value.loc[value['T_cell_further_subtype']=='CD8 GZMB','percentage'])[0]\n",
    "    GK=sum(value.loc[value['T_cell_further_subtype'].str.startswith('CD8 GZMK'),'percentage'])\n",
    "    pro=list(value.loc[value['T_cell_further_subtype']=='CD8 proliferating','percentage'])[0]\n",
    "    result_GK_GB[key]=GK/GB\n",
    "    result_GB_pro[key]=GB/pro\n",
    "    result_GK_pro[key]=GK/pro"
   ]
  },
  {
   "cell_type": "code",
   "execution_count": 8,
   "id": "6fa35791",
   "metadata": {},
   "outputs": [],
   "source": [
    "def get_df(result,col_name):\n",
    "    result_df=pd.DataFrame.from_dict(result,orient=\"index\")\n",
    "    result_df.columns=[col_name]\n",
    "    result_df['sample']=result_df.index\n",
    "\n",
    "    result_df2=result_df.drop(['caiwanqiang','shiyi']).copy()\n",
    "    result_df2['change']=result_df2.apply(lambda x:tumor_change2[x['sample']],axis=1)\n",
    "    result_df2['group']=result_df2['sample'].str.endswith('surgery')*1\n",
    "    return result_df2"
   ]
  },
  {
   "cell_type": "code",
   "execution_count": 9,
   "id": "02fddd66",
   "metadata": {},
   "outputs": [],
   "source": [
    "GZMK_GZMB=get_df(result_GK_GB,'GK_GB')\n",
    "GZMK_pro=get_df(result_GK_pro,'GK_pro')\n",
    "GZMB_pro=get_df(result_GB_pro,'GB_pro')"
   ]
  },
  {
   "cell_type": "code",
   "execution_count": 10,
   "id": "a98238b8",
   "metadata": {},
   "outputs": [],
   "source": [
    "GZMK_GZMB_biopsy=GZMK_GZMB.loc[GZMK_GZMB['group']==0].copy()\n",
    "GZMK_pro_biopsy=GZMK_pro.loc[GZMK_pro['group']==0].copy()\n",
    "GZMB_pro_biopsy=GZMB_pro.loc[GZMB_pro['group']==0].copy()"
   ]
  },
  {
   "cell_type": "code",
   "execution_count": 11,
   "id": "067e6f32",
   "metadata": {},
   "outputs": [],
   "source": [
    "##change\n",
    "GZMK_GZMB_surgey=GZMK_GZMB.loc[GZMK_GZMB['group']==1].copy()\n",
    "GZMK_pro_surgery=GZMK_pro.loc[GZMK_pro['group']==1].copy()\n",
    "GZMB_pro_surgery=GZMB_pro.loc[GZMB_pro['group']==1].copy()"
   ]
  },
  {
   "cell_type": "code",
   "execution_count": 14,
   "id": "cd17eade",
   "metadata": {},
   "outputs": [],
   "source": [
    "GZMK_GZMB_surgey['ratio']=GZMK_GZMB_surgey['GK_GB'].values/GZMK_GZMB_biopsy['GK_GB'].values\n",
    "GZMK_pro_surgery['ratio']=GZMK_pro_surgery['GK_pro'].values/GZMK_pro_biopsy['GK_pro'].values\n",
    "GZMB_pro_surgery['ratio']=GZMB_pro_surgery['GB_pro'].values/GZMB_pro_biopsy['GB_pro'].values"
   ]
  },
  {
   "cell_type": "code",
   "execution_count": 15,
   "id": "74e44c7e",
   "metadata": {},
   "outputs": [],
   "source": [
    "import numpy as np"
   ]
  },
  {
   "cell_type": "code",
   "execution_count": 16,
   "id": "08f11e2c",
   "metadata": {},
   "outputs": [],
   "source": [
    "GZMK_GZMB_biopsy['logratio']=np.log(GZMK_GZMB_biopsy['GK_GB'])\n",
    "GZMK_pro_biopsy['logratio']=np.log(GZMK_pro_biopsy['GK_pro'])\n",
    "GZMB_pro_biopsy['logratio']=np.log(GZMB_pro_biopsy['GB_pro'])"
   ]
  },
  {
   "cell_type": "code",
   "execution_count": 41,
   "id": "3c16be16",
   "metadata": {},
   "outputs": [],
   "source": [
    "#GZMK_GZMB_surgey['GK_GB']/GZMK_GZMB_biopsy['GK_GB']"
   ]
  },
  {
   "cell_type": "code",
   "execution_count": 17,
   "id": "4cd302be",
   "metadata": {},
   "outputs": [],
   "source": [
    "import scipy.stats as sst"
   ]
  },
  {
   "cell_type": "code",
   "execution_count": 44,
   "id": "64bcf2bd",
   "metadata": {},
   "outputs": [],
   "source": [
    "GKBpor_tipi=open(\"GKBpor_tipi.txt\",\"w+\")"
   ]
  },
  {
   "cell_type": "code",
   "execution_count": 45,
   "id": "d05fa2b7",
   "metadata": {},
   "outputs": [
    {
     "name": "stdout",
     "output_type": "stream",
     "text": [
      "GZMK/GZMB\tTi\t-0.35749533802606986\t0.38461773208503414\t-3.8229087412660836\t-30.754805780612532\t4.077136372190486\n",
      "GZMK/pro\tTi\t-0.779596317787571\t0.02253721960132972\t-1.4780754836913137\t-28.79039339659504\t0.48475397763784195\n",
      "GZMB/pro\tTi\t-0.7537907310737475\t0.0307616834442326\t-1.443606480846669\t-27.90622194820859\t0.5137637871005207\n"
     ]
    }
   ],
   "source": [
    "###PI\n",
    "slope, intercept, r_value, p_value, std_err=sst.linregress(GZMK_GZMB_surgey['ratio'],GZMK_GZMB_surgey['change'])\n",
    "print(*['GZMK/GZMB','Ti',r_value, p_value,slope, intercept,  std_err],sep=\"\\t\")\n",
    "slope, intercept, r_value, p_value, std_err=sst.linregress(GZMK_pro_surgery['ratio'],GZMK_pro_surgery['change'])\n",
    "print(*['GZMK/pro','Ti',r_value, p_value,slope, intercept,  std_err],sep=\"\\t\")\n",
    "slope, intercept, r_value, p_value, std_err=sst.linregress(GZMB_pro_surgery['ratio'],GZMB_pro_surgery['change'])\n",
    "print(*['GZMB/pro','Ti',r_value, p_value,slope, intercept,  std_err],sep=\"\\t\")"
   ]
  },
  {
   "cell_type": "code",
   "execution_count": 46,
   "id": "ee96b15b",
   "metadata": {},
   "outputs": [],
   "source": [
    "###PI\n",
    "slope, intercept, r_value, p_value, std_err=sst.linregress(GZMK_GZMB_surgey['ratio'],GZMK_GZMB_surgey['change'])\n",
    "print(*['GZMK/GZMB','Ti',r_value, p_value,slope, intercept,  std_err],sep=\"\\t\",file=GKBpor_tipi)\n",
    "slope, intercept, r_value, p_value, std_err=sst.linregress(GZMK_pro_surgery['ratio'],GZMK_pro_surgery['change'])\n",
    "print(*['GZMK/pro','Ti',r_value, p_value,slope, intercept,  std_err],sep=\"\\t\",file=GKBpor_tipi)\n",
    "slope, intercept, r_value, p_value, std_err=sst.linregress(GZMB_pro_surgery['ratio'],GZMB_pro_surgery['change'])\n",
    "print(*['GZMB/pro','Ti',r_value, p_value,slope, intercept,  std_err],sep=\"\\t\",file=GKBpor_tipi)"
   ]
  },
  {
   "cell_type": "code",
   "execution_count": 52,
   "id": "54cfce08",
   "metadata": {},
   "outputs": [
    {
     "name": "stdout",
     "output_type": "stream",
     "text": [
      "GZMK/GZMB\tPi\t0.6827649243776301\t0.06202964627555295\t5.217445758880051\t-44.3402205314233\t2.2793627201431863\n",
      "GZMK/pro\tPi\t0.8773179824204116\t0.004201859950560971\t9.582130326577467\t-61.14868029188722\t2.139876906665588\n",
      "GZMB/pro\tPi\t-0.14261529110418483\t0.7362000424009196\t-2.2542189923413156\t-32.07773126995944\t6.386931661158227\n"
     ]
    }
   ],
   "source": [
    "###PI\n",
    "slope, intercept, r_value, p_value, std_err=sst.linregress(GZMK_GZMB_biopsy['logratio'],GZMK_GZMB_biopsy['change'])\n",
    "print(*['GZMK/GZMB','Pi',r_value, p_value,slope, intercept,  std_err],sep=\"\\t\",file=GKBpor_tipi)\n",
    "slope, intercept, r_value, p_value, std_err=sst.linregress(GZMK_pro_biopsy['logratio'],GZMK_pro_biopsy['change'])\n",
    "print(*['GZMK/pro','Pi',r_value, p_value,slope, intercept,  std_err],sep=\"\\t\",file=GKBpor_tipi)\n",
    "slope, intercept, r_value, p_value, std_err=sst.linregress(GZMB_pro_biopsy['logratio'],GZMB_pro_biopsy['change'])\n",
    "print(*['GZMB/pro','Pi',r_value, p_value,slope, intercept,  std_err],sep=\"\\t\",file=GKBpor_tipi)"
   ]
  },
  {
   "cell_type": "code",
   "execution_count": 53,
   "id": "c42b83ef",
   "metadata": {},
   "outputs": [],
   "source": [
    "###PI\n",
    "slope, intercept, r_value, p_value, std_err=sst.linregress(GZMK_GZMB_biopsy['logratio'],GZMK_GZMB_biopsy['change'])\n",
    "print(*['GZMK/GZMB','Pi',r_value, p_value,slope, intercept,  std_err],sep=\"\\t\",file=GKBpor_tipi)\n",
    "slope, intercept, r_value, p_value, std_err=sst.linregress(GZMK_pro_biopsy['logratio'],GZMK_pro_biopsy['change'])\n",
    "print(*['GZMK/pro','Pi',r_value, p_value,slope, intercept,  std_err],sep=\"\\t\",file=GKBpor_tipi)\n",
    "slope, intercept, r_value, p_value, std_err=sst.linregress(GZMB_pro_biopsy['logratio'],GZMB_pro_biopsy['change'])\n",
    "print(*['GZMB/pro','Pi',r_value, p_value,slope, intercept,  std_err],sep=\"\\t\",file=GKBpor_tipi)"
   ]
  },
  {
   "cell_type": "code",
   "execution_count": 54,
   "id": "94771132",
   "metadata": {},
   "outputs": [],
   "source": [
    "GKBpor_tipi.close()"
   ]
  },
  {
   "cell_type": "code",
   "execution_count": null,
   "id": "851f1a0a",
   "metadata": {},
   "outputs": [],
   "source": [
    "figure=plt.figure(figsize=(7,7))\n",
    "ax1=figure.add_subplot(111)\n",
    "sns.boxplot(x='Respond',y='GK_pro',data=GK_pro_changes,ax=ax1,order=['Respond Poor','Respond Well'],width=0.2)\n",
    "plt.ylim([0,2])\n",
    "plt.ylabel(\"Ratio(post/pre)\")"
   ]
  },
  {
   "cell_type": "code",
   "execution_count": 18,
   "id": "b00a2721",
   "metadata": {},
   "outputs": [],
   "source": [
    "GZMK_GZMB_surgey['Respond']=GZMK_GZMB_surgey.apply(lambda x:'Respond well' if x['change']<-30 else 'Respond poor',axis=1)\n",
    "GZMK_pro_surgery['Respond']=GZMK_pro_surgery.apply(lambda x:'Respond well' if x['change']<-30 else 'Respond poor',axis=1)\n",
    "GZMB_pro_surgery['Respond']=GZMB_pro_surgery.apply(lambda x:'Respond well' if x['change']<-30 else 'Respond poor',axis=1)"
   ]
  },
  {
   "cell_type": "code",
   "execution_count": 19,
   "id": "16efb4e7",
   "metadata": {},
   "outputs": [],
   "source": [
    "import seaborn as sns"
   ]
  },
  {
   "cell_type": "code",
   "execution_count": 20,
   "id": "4cb4d969",
   "metadata": {},
   "outputs": [
    {
     "data": {
      "text/plain": [
       "MannwhitneyuResult(statistic=2.0, pvalue=0.06801856405707181)"
      ]
     },
     "execution_count": 20,
     "metadata": {},
     "output_type": "execute_result"
    }
   ],
   "source": [
    "sst.mannwhitneyu(GZMK_GZMB_surgey.loc[GZMK_GZMB_surgey['Respond']=='Respond poor','ratio'],GZMK_GZMB_surgey.loc[GZMK_GZMB_surgey['Respond']=='Respond well','ratio'],alternative='less')"
   ]
  },
  {
   "cell_type": "code",
   "execution_count": 78,
   "id": "34b931b2",
   "metadata": {},
   "outputs": [
    {
     "data": {
      "text/plain": [
       "MannwhitneyuResult(statistic=2.0, pvalue=0.06801856405707181)"
      ]
     },
     "execution_count": 78,
     "metadata": {},
     "output_type": "execute_result"
    }
   ],
   "source": [
    "sst.mannwhitneyu(GZMK_GZMB_surgey.loc[GZMK_GZMB_surgey['Respond']=='Respond poor','ratio'],GZMK_GZMB_surgey.loc[GZMK_GZMB_surgey['Respond']=='Respond well','ratio'],alternative='less')"
   ]
  },
  {
   "cell_type": "code",
   "execution_count": 76,
   "id": "58126bb9",
   "metadata": {},
   "outputs": [],
   "source": [
    "?sst.mannwhitneyu"
   ]
  },
  {
   "cell_type": "code",
   "execution_count": 21,
   "id": "398c7b7f",
   "metadata": {},
   "outputs": [
    {
     "data": {
      "text/plain": [
       "MannwhitneyuResult(statistic=2.0, pvalue=0.06801856405707181)"
      ]
     },
     "execution_count": 21,
     "metadata": {},
     "output_type": "execute_result"
    }
   ],
   "source": [
    "sst.mannwhitneyu(GZMK_pro_surgery.loc[GZMK_pro_surgery['Respond']=='Respond poor','ratio'],GZMK_pro_surgery.loc[GZMK_pro_surgery['Respond']=='Respond well','ratio'],alternative='less')"
   ]
  },
  {
   "cell_type": "code",
   "execution_count": 74,
   "id": "2251d2cf",
   "metadata": {},
   "outputs": [
    {
     "data": {
      "text/plain": [
       "MannwhitneyuResult(statistic=2.0, pvalue=0.06801856405707181)"
      ]
     },
     "execution_count": 74,
     "metadata": {},
     "output_type": "execute_result"
    }
   ],
   "source": [
    "sst.mannwhitneyu(GZMK_pro_surgery.loc[GZMK_pro_surgery['Respond']=='Respond poor','ratio'],GZMK_pro_surgery.loc[GZMK_pro_surgery['Respond']=='Respond well','ratio'],alternative='less')"
   ]
  },
  {
   "cell_type": "code",
   "execution_count": 71,
   "id": "89e18d23",
   "metadata": {},
   "outputs": [
    {
     "data": {
      "text/plain": [
       "MannwhitneyuResult(statistic=7.0, pvalue=0.5)"
      ]
     },
     "execution_count": 71,
     "metadata": {},
     "output_type": "execute_result"
    }
   ],
   "source": [
    "sst.mannwhitneyu(GZMB_pro_surgery.loc[GZMB_pro_surgery['Respond']=='Respond poor','ratio'],GZMB_pro_surgery.loc[GZMB_pro_surgery['Respond']=='Respond well','ratio'])"
   ]
  },
  {
   "cell_type": "code",
   "execution_count": 80,
   "id": "b8fea4f9",
   "metadata": {},
   "outputs": [],
   "source": [
    "#color=(\"#4DBBD5\",\"#E64B35\"),"
   ]
  },
  {
   "cell_type": "code",
   "execution_count": 82,
   "id": "5594237b",
   "metadata": {},
   "outputs": [
    {
     "ename": "IndexError",
     "evalue": "list index out of range",
     "output_type": "error",
     "traceback": [
      "\u001b[0;31m---------------------------------------------------------------------------\u001b[0m",
      "\u001b[0;31mIndexError\u001b[0m                                Traceback (most recent call last)",
      "\u001b[0;32m<ipython-input-82-dad4dd973c00>\u001b[0m in \u001b[0;36m<module>\u001b[0;34m\u001b[0m\n\u001b[1;32m      2\u001b[0m \u001b[0max1\u001b[0m\u001b[0;34m=\u001b[0m\u001b[0mfigure\u001b[0m\u001b[0;34m.\u001b[0m\u001b[0madd_subplot\u001b[0m\u001b[0;34m(\u001b[0m\u001b[0;36m221\u001b[0m\u001b[0;34m)\u001b[0m\u001b[0;34m\u001b[0m\u001b[0;34m\u001b[0m\u001b[0m\n\u001b[1;32m      3\u001b[0m \u001b[0max1\u001b[0m\u001b[0;34m=\u001b[0m\u001b[0msns\u001b[0m\u001b[0;34m.\u001b[0m\u001b[0mboxplot\u001b[0m\u001b[0;34m(\u001b[0m\u001b[0mx\u001b[0m\u001b[0;34m=\u001b[0m\u001b[0;34m'Respond'\u001b[0m\u001b[0;34m,\u001b[0m\u001b[0my\u001b[0m\u001b[0;34m=\u001b[0m\u001b[0;34m'ratio'\u001b[0m\u001b[0;34m,\u001b[0m\u001b[0mdata\u001b[0m\u001b[0;34m=\u001b[0m\u001b[0mGZMK_GZMB_surgey\u001b[0m\u001b[0;34m,\u001b[0m\u001b[0morder\u001b[0m\u001b[0;34m=\u001b[0m\u001b[0;34m[\u001b[0m\u001b[0;34m'Respond poor'\u001b[0m\u001b[0;34m,\u001b[0m\u001b[0;34m'Respond well'\u001b[0m\u001b[0;34m]\u001b[0m\u001b[0;34m,\u001b[0m\u001b[0mwidth\u001b[0m\u001b[0;34m=\u001b[0m\u001b[0;36m0.2\u001b[0m\u001b[0;34m)\u001b[0m\u001b[0;34m\u001b[0m\u001b[0;34m\u001b[0m\u001b[0m\n\u001b[0;32m----> 4\u001b[0;31m \u001b[0mmybox\u001b[0m \u001b[0;34m=\u001b[0m \u001b[0max1\u001b[0m\u001b[0;34m.\u001b[0m\u001b[0martists\u001b[0m\u001b[0;34m[\u001b[0m\u001b[0;36m2\u001b[0m\u001b[0;34m]\u001b[0m\u001b[0;34m\u001b[0m\u001b[0;34m\u001b[0m\u001b[0m\n\u001b[0m\u001b[1;32m      5\u001b[0m \u001b[0;34m\u001b[0m\u001b[0m\n\u001b[1;32m      6\u001b[0m \u001b[0;31m# Change the appearance of that box\u001b[0m\u001b[0;34m\u001b[0m\u001b[0;34m\u001b[0m\u001b[0;34m\u001b[0m\u001b[0m\n",
      "\u001b[0;31mIndexError\u001b[0m: list index out of range"
     ]
    },
    {
     "data": {
      "image/png": "[encoded data removed]",
      "text/plain": [
       "<Figure size 1008x1008 with 1 Axes>"
      ]
     },
     "metadata": {
      "needs_background": "light"
     },
     "output_type": "display_data"
    }
   ],
   "source": [
    "figure=plt.figure(figsize=(14,14))\n",
    "ax1=figure.add_subplot(221)\n",
    "ax1=sns.boxplot(x='Respond',y='ratio',data=GZMK_GZMB_surgey,order=['Respond poor','Respond well'],width=0.2)\n",
    "mybox = ax1.artists[2]\n",
    "\n",
    "# Change the appearance of that box\n",
    "mybox.set_facecolor('red')\n",
    "mybox.set_edgecolor('black')\n",
    "mybox.set_linewidth(3)\n",
    "\n",
    "plt.show()"
   ]
  },
  {
   "cell_type": "code",
   "execution_count": 22,
   "id": "0942290c",
   "metadata": {},
   "outputs": [
    {
     "data": {
      "text/plain": [
       "Text(0.5, 1.0, 'GZMB/Proliferating Ratio change')"
      ]
     },
     "execution_count": 22,
     "metadata": {},
     "output_type": "execute_result"
    },
    {
     "data": {
      "image/png": "[encoded data removed]",
      "text/plain": [
       "<Figure size 1008x1008 with 3 Axes>"
      ]
     },
     "metadata": {
      "needs_background": "light"
     },
     "output_type": "display_data"
    }
   ],
   "source": [
    "figure=plt.figure(figsize=(14,14))\n",
    "ax1=figure.add_subplot(221)\n",
    "sns.boxplot(x='Respond',y='ratio',data=GZMK_GZMB_surgey,order=['Respond poor','Respond well'],width=0.2,ax=ax1)\n",
    "\n",
    "color=(\"#4DBBD5\",\"#E64B35\"),\n",
    "plt.ylim([0,2])\n",
    "plt.ylabel(\"Ratio(Post/Pre)\")\n",
    "plt.title(\"GZMK/GZMB Ratio change\")\n",
    "ax2=figure.add_subplot(222)\n",
    "sns.boxplot(x='Respond',y='ratio',data=GZMK_pro_surgery,ax=ax2,order=['Respond poor','Respond well'],width=0.2)\n",
    "plt.ylim([0,2])\n",
    "plt.ylabel(\"Ratio(Post/Pre)\")\n",
    "plt.title(\"GZMK/Proliferating Ratio change\")\n",
    "\n",
    "ax3=figure.add_subplot(223)\n",
    "sns.boxplot(x='Respond',y='ratio',data=GZMB_pro_surgery,ax=ax3,order=['Respond poor','Respond well'],width=0.2)\n",
    "plt.ylim([0,4])\n",
    "plt.ylabel(\"Ratio(Post/Pre)\")\n",
    "plt.title(\"GZMB/Proliferating Ratio change\")\n",
    "\n"
   ]
  },
  {
   "cell_type": "code",
   "execution_count": 30,
   "id": "9d844caf",
   "metadata": {},
   "outputs": [],
   "source": [
    "GZMK_GZMB_surgey.to_csv(\"/home/wull01/liver_project/source_data/Figure6NGZMK_GZMB.txt\",sep=\"\\t\")\n",
    "GZMK_pro_surgery.to_csv(\"/home/wull01/liver_project/source_data/Figure6NGZMK_pro.txt\",sep=\"\\t\")\n",
    "GZMB_pro_surgery.to_csv(\"/home/wull01/liver_project/source_data/Figure6NGZMB_pro.txt\",sep=\"\\t\")"
   ]
  },
  {
   "cell_type": "code",
   "execution_count": 84,
   "id": "d109ca41",
   "metadata": {},
   "outputs": [
    {
     "data": {
      "text/plain": [
       "Text(0.5, 1.0, 'GZMB/Proliferating Ratio change')"
      ]
     },
     "execution_count": 84,
     "metadata": {},
     "output_type": "execute_result"
    },
    {
     "data": {
      "image/png": "[encoded data removed]",
      "text/plain": [
       "<Figure size 1008x1008 with 3 Axes>"
      ]
     },
     "metadata": {
      "needs_background": "light"
     },
     "output_type": "display_data"
    }
   ],
   "source": [
    "figure=plt.figure(figsize=(14,14))\n",
    "ax1=figure.add_subplot(221)\n",
    "sns.boxplot(x='Respond',y='ratio',data=GZMK_GZMB_surgey,order=['Respond poor','Respond well'],width=0.2,ax=ax1)\n",
    "\n",
    "color=(\"#4DBBD5\",\"#E64B35\"),\n",
    "plt.ylim([0,2])\n",
    "plt.ylabel(\"Ratio(Post/Pre)\")\n",
    "plt.title(\"GZMK/GZMB Ratio change\")\n",
    "ax2=figure.add_subplot(222)\n",
    "sns.boxplot(x='Respond',y='ratio',data=GZMK_pro_surgery,ax=ax2,order=['Respond poor','Respond well'],width=0.2)\n",
    "plt.ylim([0,2])\n",
    "plt.ylabel(\"Ratio(Post/Pre)\")\n",
    "plt.title(\"GZMK/Proliferating Ratio change\")\n",
    "\n",
    "ax3=figure.add_subplot(223)\n",
    "sns.boxplot(x='Respond',y='ratio',data=GZMB_pro_surgery,ax=ax3,order=['Respond poor','Respond well'],width=0.2)\n",
    "plt.ylim([0,4])\n",
    "plt.ylabel(\"Ratio(Post/Pre)\")\n",
    "plt.title(\"GZMB/Proliferating Ratio change\")\n"
   ]
  },
  {
   "cell_type": "code",
   "execution_count": 85,
   "id": "8b61eed6",
   "metadata": {},
   "outputs": [],
   "source": [
    "figure.savefig(\"Revision_plot/GZMKB_pro_ratio.svg\")"
   ]
  },
  {
   "cell_type": "code",
   "execution_count": null,
   "id": "8b468874",
   "metadata": {},
   "outputs": [],
   "source": []
  }
 ],
 "metadata": {
  "kernelspec": {
   "display_name": "Python 3",
   "language": "python",
   "name": "python3"
  },
  "language_info": {
   "codemirror_mode": {
    "name": "ipython",
    "version": 3
   },
   "file_extension": ".py",
   "mimetype": "text/x-python",
   "name": "python",
   "nbconvert_exporter": "python",
   "pygments_lexer": "ipython3",
   "version": "3.9.4"
  }
 },
 "nbformat": 4,
 "nbformat_minor": 5
}
