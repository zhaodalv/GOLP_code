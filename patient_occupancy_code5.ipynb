{
 "cells": [
  {
   "cell_type": "code",
   "execution_count": 1,
   "id": "7da26af9",
   "metadata": {},
   "outputs": [],
   "source": [
    "import pandas as pd\n",
    "import numpy as np\n",
    "import matplotlib.pyplot as plt\n",
    "%matplotlib inline\n",
    "\n",
    "import seaborn as sns\n",
    "\n",
    "import scipy.stats as sst\n",
    "\n",
    "#from statannot import add_stat_annotation\n",
    "\n",
    "import functools\n",
    "\n",
    "import itertools\n",
    "\n",
    "import matplotlib as mpl\n",
    "mpl.rcParams['svg.fonttype']='none'"
   ]
  },
  {
   "cell_type": "code",
   "execution_count": 2,
   "id": "a7364341",
   "metadata": {},
   "outputs": [],
   "source": [
    "def ccpo(subtype_counts,colname): #patient occupancy calculating\n",
    "    #cluster_occpy_pre={}\n",
    "    cluster_occpy={}\n",
    "    cluster_sum_dict=subtype_counts.groupby(colname).sum()['count'].to_dict()\n",
    "    \n",
    "    for index,value in subtype_counts.groupby(colname):\n",
    "        group_info=value.loc[value['count'].idxmax(),'Group']\n",
    "        ccop=value['count'].max()/cluster_sum_dict[index]\n",
    "        cluster_occpy[index]=[ccop,group_info]\n",
    "    cluster_occpy_df=pd.DataFrame.from_dict(cluster_occpy,orient='index')\n",
    "    cluster_occpy_df.columns=['Pcc_score','Group']\n",
    "    return cluster_occpy_df\n"
   ]
  },
  {
   "cell_type": "code",
   "execution_count": 9,
   "id": "9a87befc",
   "metadata": {},
   "outputs": [],
   "source": [
    "cell_types=pd.read_csv(\"statistics/celltype_counts.csv\",index_col=0)"
   ]
  },
  {
   "cell_type": "code",
   "execution_count": 24,
   "id": "48c3678b",
   "metadata": {},
   "outputs": [
    {
     "data": {
      "text/plain": [
       "(252, 4)"
      ]
     },
     "execution_count": 24,
     "metadata": {},
     "output_type": "execute_result"
    }
   ],
   "source": [
    "cell_types"
   ]
  },
  {
   "cell_type": "code",
   "execution_count": 16,
   "id": "2d13280b",
   "metadata": {},
   "outputs": [],
   "source": [
    "cell_types['Group']=cell_types.apply(lambda x:1 if 'surgery' in x['sample'] else 0,axis=1)"
   ]
  },
  {
   "cell_type": "code",
   "execution_count": 20,
   "id": "1a28ef86",
   "metadata": {},
   "outputs": [],
   "source": [
    "##all cell types\n",
    "cell_types_ccpo=ccpo(cell_types,'cell_type')"
   ]
  },
  {
   "cell_type": "code",
   "execution_count": null,
   "id": "d59b843a",
   "metadata": {},
   "outputs": [],
   "source": [
    "##myeloid\n",
    "myeloid_ccpo=ccpo(myeloid_subtypes_counts,'myeloid_type')\n",
    "T_cell_ccpo=ccpo(T_cell_types,'T_cell_subtype')"
   ]
  },
  {
   "cell_type": "code",
   "execution_count": null,
   "id": "2fe1a630",
   "metadata": {},
   "outputs": [],
   "source": [
    "##Tumor cells\n",
    "Tumor_ccpo=ccpo(Tumor_cell_counts,'Tumor_subtype')"
   ]
  }
 ],
 "metadata": {
  "kernelspec": {
   "display_name": "Python 3",
   "language": "python",
   "name": "python3"
  },
  "language_info": {
   "codemirror_mode": {
    "name": "ipython",
    "version": 3
   },
   "file_extension": ".py",
   "mimetype": "text/x-python",
   "name": "python",
   "nbconvert_exporter": "python",
   "pygments_lexer": "ipython3",
   "version": "3.9.4"
  }
 },
 "nbformat": 4,
 "nbformat_minor": 5
}
