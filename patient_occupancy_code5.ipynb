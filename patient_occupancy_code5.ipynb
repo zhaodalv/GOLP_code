{
 "cells": [
  {
   "cell_type": "code",
   "execution_count": 1,
   "id": "7da26af9",
   "metadata": {},
   "outputs": [],
   "source": [
    "import pandas as pd\n",
    "import numpy as np\n",
    "import matplotlib.pyplot as plt\n",
    "%matplotlib inline\n",
    "\n",
    "import seaborn as sns\n",
    "\n",
    "import scipy.stats as sst\n",
    "\n",
    "#from statannot import add_stat_annotation\n",
    "\n",
    "import functools\n",
    "\n",
    "import itertools\n",
    "\n",
    "import matplotlib as mpl\n",
    "mpl.rcParams['svg.fonttype']='none'"
   ]
  },
  {
   "cell_type": "code",
   "execution_count": 2,
   "id": "a7364341",
   "metadata": {},
   "outputs": [],
   "source": [
    "def ccpo(subtype_counts,colname): #patient occupancy calculating\n",
    "    #cluster_occpy_pre={}\n",
    "    cluster_occpy={}\n",
    "    cluster_sum_dict=subtype_counts.groupby(colname).sum()['count'].to_dict()\n",
    "    \n",
    "    for index,value in subtype_counts.groupby(colname):\n",
    "        group_info=value.loc[value['count'].idxmax(),'Group']\n",
    "        ccop=value['count'].max()/cluster_sum_dict[index]\n",
    "        cluster_occpy[index]=[ccop,group_info]\n",
    "    cluster_occpy_df=pd.DataFrame.from_dict(cluster_occpy,orient='index')\n",
    "    cluster_occpy_df.columns=['Pcc_score','Group']\n",
    "    return cluster_occpy_df\n"
   ]
  },
  {
   "cell_type": "code",
   "execution_count": 9,
   "id": "9a87befc",
   "metadata": {},
   "outputs": [],
   "source": [
    "cell_types=pd.read_csv(\"statistics/celltype_counts.csv\",index_col=0)"
   ]
  },
  {
   "cell_type": "code",
   "execution_count": 24,
   "id": "48c3678b",
   "metadata": {},
   "outputs": [
    {
     "data": {
      "text/plain": [
       "(252, 4)"
      ]
     },
     "execution_count": 24,
     "metadata": {},
     "output_type": "execute_result"
    }
   ],
   "source": [
    "cell_types"
   ]
  },
  {
   "cell_type": "code",
   "execution_count": 16,
   "id": "2d13280b",
   "metadata": {},
   "outputs": [],
   "source": [
    "cell_types['Group']=cell_types.apply(lambda x:1 if 'surgery' in x['sample'] else 0,axis=1)"
   ]
  },
  {
   "cell_type": "code",
   "execution_count": 18,
   "id": "75f1e468",
   "metadata": {},
   "outputs": [
    {
     "data": {
      "text/html": [
       "<div>\n",
       "<style scoped>\n",
       "    .dataframe tbody tr th:only-of-type {\n",
       "        vertical-align: middle;\n",
       "    }\n",
       "\n",
       "    .dataframe tbody tr th {\n",
       "        vertical-align: top;\n",
       "    }\n",
       "\n",
       "    .dataframe thead th {\n",
       "        text-align: right;\n",
       "    }\n",
       "</style>\n",
       "<table border=\"1\" class=\"dataframe\">\n",
       "  <thead>\n",
       "    <tr style=\"text-align: right;\">\n",
       "      <th></th>\n",
       "      <th>sample</th>\n",
       "      <th>cell_type</th>\n",
       "      <th>count</th>\n",
       "      <th>Group</th>\n",
       "    </tr>\n",
       "  </thead>\n",
       "  <tbody>\n",
       "    <tr>\n",
       "      <th>0</th>\n",
       "      <td>caiwanqiang</td>\n",
       "      <td>B cell</td>\n",
       "      <td>439</td>\n",
       "      <td>0</td>\n",
       "    </tr>\n",
       "    <tr>\n",
       "      <th>1</th>\n",
       "      <td>caiwanqiang</td>\n",
       "      <td>T cell</td>\n",
       "      <td>68</td>\n",
       "      <td>0</td>\n",
       "    </tr>\n",
       "    <tr>\n",
       "      <th>2</th>\n",
       "      <td>caiwanqiang</td>\n",
       "      <td>Endothelial</td>\n",
       "      <td>119</td>\n",
       "      <td>0</td>\n",
       "    </tr>\n",
       "    <tr>\n",
       "      <th>3</th>\n",
       "      <td>caiwanqiang</td>\n",
       "      <td>Epithelial</td>\n",
       "      <td>890</td>\n",
       "      <td>0</td>\n",
       "    </tr>\n",
       "    <tr>\n",
       "      <th>4</th>\n",
       "      <td>caiwanqiang</td>\n",
       "      <td>Fibroblast</td>\n",
       "      <td>105</td>\n",
       "      <td>0</td>\n",
       "    </tr>\n",
       "  </tbody>\n",
       "</table>\n",
       "</div>"
      ],
      "text/plain": [
       "        sample    cell_type  count  Group\n",
       "0  caiwanqiang       B cell    439      0\n",
       "1  caiwanqiang       T cell     68      0\n",
       "2  caiwanqiang  Endothelial    119      0\n",
       "3  caiwanqiang   Epithelial    890      0\n",
       "4  caiwanqiang   Fibroblast    105      0"
      ]
     },
     "execution_count": 18,
     "metadata": {},
     "output_type": "execute_result"
    }
   ],
   "source": [
    "cell_types.head()"
   ]
  },
  {
   "cell_type": "code",
   "execution_count": 19,
   "id": "cd3fac5d",
   "metadata": {},
   "outputs": [],
   "source": []
  },
  {
   "cell_type": "code",
   "execution_count": 20,
   "id": "1a28ef86",
   "metadata": {},
   "outputs": [],
   "source": [
    "##all cell types\n",
    "cell_types_ccpo=ccpo(cell_types,'cell_type')"
   ]
  },
  {
   "cell_type": "code",
   "execution_count": null,
   "id": "d59b843a",
   "metadata": {},
   "outputs": [],
   "source": [
    "##myeloid\n",
    "myeloid_ccpo=ccpo(myeloid_subtypes_counts,'myeloid_type')\n",
    "T_cell_ccpo=ccpo(T_cell_types,'T_cell_subtype')"
   ]
  },
  {
   "cell_type": "code",
   "execution_count": null,
   "id": "2fe1a630",
   "metadata": {},
   "outputs": [],
   "source": [
    "##Tumor cells\n",
    "Tumor_ccpo=ccpo(Tumor_cell_counts,'Tumor_subtype')"
   ]
  }
 ],
 "metadata": {
  "kernelspec": {
   "display_name": "Python 3 (ipykernel)",
   "language": "python",
   "name": "python3"
  },
  "language_info": {
   "codemirror_mode": {
    "name": "ipython",
    "version": 3
   },
   "file_extension": ".py",
   "mimetype": "text/x-python",
   "name": "python",
   "nbconvert_exporter": "python",
   "pygments_lexer": "ipython3",
   "version": "3.10.4"
  }
 },
 "nbformat": 4,
 "nbformat_minor": 5
}
